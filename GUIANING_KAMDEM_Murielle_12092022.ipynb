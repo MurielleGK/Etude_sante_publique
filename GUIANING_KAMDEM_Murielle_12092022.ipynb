{
 "cells": [
  {
   "cell_type": "markdown",
   "id": "333e2a92",
   "metadata": {},
   "source": [
    "# Objectif DE LA MISSION\n",
    "\n",
    "L'objectif principal est de répondre aux questions suivantes :\n",
    "\n",
    "### 1. Proportion de personnes en état de sous-nutrition\n",
    "Identifier combien de personnes dans le monde sont sous-alimentées en 2017.\n",
    "\n",
    "### 2. Capacité théorique de nourrir la population\n",
    "Calculer combien de personnes pourraient être nourries en utilisant la disponibilité alimentaire mondiale, en mettant l'accent sur les produits végétaux.\n",
    "\n",
    "### 3. Utilisation de la disponibilité intérieure\n",
    "Analyser la répartition de cette disponibilité entre l’alimentation animale, les pertes alimentaires, et l’alimentation humaine. Il faudra quantifier quelle part des ressources alimentaires est concrètement utilisée pour nourrir les humains, et quelle part est affectée à d'autres usages.\n",
    "\n",
    "### En complément :\n",
    "- La liste des pays ayant les taux de sous-nutrition les plus élevés en 2017."
   ]
  },
  {
   "cell_type": "code",
   "execution_count": 1,
   "id": "4fd0113b",
   "metadata": {},
   "outputs": [],
   "source": [
    "import pandas as pd\n",
    "import numpy as np"
   ]
  },
  {
   "cell_type": "code",
   "execution_count": 2,
   "id": "ad4834f4",
   "metadata": {},
   "outputs": [],
   "source": [
    "#IMPORTATION DES DONNEES#\n",
    "dispo_alimentaire = pd.read_csv(\"file:data/dispo_alimentaire.csv\")\n",
    "#ajout de la colonne année car les données correspondent à ceux de l'année 2013#\n",
    "dispo_alimentaire.insert(0, \"Anneé\", \"2013\") \n",
    "#renommage des colonnes#\n",
    "dispo_alimentaire.rename\\\n",
    "(columns={\"Disponibilité alimentaire (Kcal/personne/jour)\":\"da_kcal\",\n",
    "                                  \"Disponibilité de matière grasse en quantité (g/personne/jour)\":\"matiere_grasse\",\n",
    "                                  \"Disponibilité alimentaire en quantité (kg/personne/an)\":\"kg_pers\",\n",
    "                                  \"Disponibilité de protéines en quantité (g/personne/jour)\":\"protéines\"},inplace= True)\n"
   ]
  },
  {
   "cell_type": "code",
   "execution_count": 3,
   "id": "575756c8",
   "metadata": {},
   "outputs": [],
   "source": [
    "#IMPORTATION DES DONNEES#\n",
    "sous_nutrition = pd.read_csv(\"file:data/sous_nutrition.csv\")\n",
    "#remplacement des valeurs dans le champs année#\n",
    "\n",
    "sous_nutrition[\"Année\"]= sous_nutrition[\"Année\"].replace({'2012-2014', '2013-2015', '2014-2016', '2015-2017', '2016-2018',\n",
    "       '2017-2019'}, {'2013', '2014', '2015', '2016', '2017', '2018'})\n",
    "\n",
    "sous_nutrition[\"Valeur\"]= sous_nutrition[\"Valeur\"].replace('<0.1',\"0.0\") #remplacement de '<0.1' par \"0\" dans le champs Valeur#\n",
    "\n",
    "sous_nutrition[\"Valeur\"]=pd.to_numeric(sous_nutrition[\"Valeur\"]) #changement du type Valeur str en int#\n",
    "\n",
    "sous_nutrition.rename(columns={\"Valeur\":\"sn_nombre\"},inplace= True) #renommage du champs \"Valeur\" en \"sn_nombre\"#\n",
    "\n",
    "sous_nutrition[\"sn_nombre\"]=sous_nutrition[\"sn_nombre\"]*1000000 #mise à jours de la valeur: elle etait exprimé en million\""
   ]
  },
  {
   "cell_type": "code",
   "execution_count": 4,
   "id": "062e7502",
   "metadata": {},
   "outputs": [],
   "source": [
    "#IMPORTATION DES DONNEES#\n",
    "population = pd.read_csv(\"data/population.csv\")\n",
    "\n",
    "population=population.astype({\"Année\":\"object\"}) #changement du type \"Année\"  int en str#\n",
    "\n",
    "population.rename(columns={\"Valeur\":\"pop_nombre\"},inplace= True)#renommage du champs \"Valeur\" en \"pop_nombre\"#\n",
    "\n",
    "population[\"pop_nombre\"]=population[\"pop_nombre\"]*1000 #mise à jours de la valeur: elle etait exprimé en millier\"\n"
   ]
  },
  {
   "cell_type": "code",
   "execution_count": 5,
   "id": "e2095d83",
   "metadata": {},
   "outputs": [],
   "source": [
    "aide_alimentaire = pd.read_csv(\"file:data/aide_alimentaire.csv\")\n",
    "aide_alimentaire=aide_alimentaire.astype({\"Année\":object})\n",
    "aide_alimentaire.rename(columns={\"Valeur\":\"ai_quantité\",\"Pays bénéficiaire\":\"Zone\"},inplace= True)"
   ]
  },
  {
   "cell_type": "markdown",
   "id": "aa64ad54",
   "metadata": {},
   "source": [
    "# 1 - Disponibilité intérieure\n",
    "\n",
    "La disponibilité intérieure peut être calculée selon la formule suivante :\n",
    "\n",
    "**Disponibilité intérieure = Production + Importations - Pertes + Variation de stock**\n",
    "\n",
    "Elle se répartit ensuite en plusieurs utilisations :\n",
    "\n",
    "**Disponibilité intérieure = Exportations + Nourriture + Aliments pour animaux + Traitement + Autres Utilisations + Semences**"
   ]
  },
  {
   "cell_type": "markdown",
   "id": "004d41ea",
   "metadata": {},
   "source": [
    "# 2 - Utilisation du manioc en Thailande\n"
   ]
  },
  {
   "cell_type": "code",
   "execution_count": 6,
   "id": "0115d9f2",
   "metadata": {},
   "outputs": [],
   "source": [
    "#Création de la df da_tm  qui correspond à la disponibilité alimentaire du manioc en Thailande#\n",
    "da_tm=dispo_alimentaire.loc[dispo_alimentaire[\"Zone\"].isin([\"Thaïlande\"]) & \n",
    "                            dispo_alimentaire[\"Produit\"].isin([\"Manioc\"]),:]\n"
   ]
  },
  {
   "cell_type": "code",
   "execution_count": 7,
   "id": "817e0f32",
   "metadata": {},
   "outputs": [],
   "source": [
    "#Calcul des proportions par rapport à la production#\n",
    "proportion_export=round((da_tm[\"Exportations - Quantité\"].sum()*100)/(da_tm[\"Production\"].sum()),2)\n",
    "\n",
    "proportion_nourriture=round((da_tm[\"Nourriture\"].sum()*100)/da_tm[\"Production\"].sum(),2)\n",
    "\n",
    "proportion_animaux=round(((da_tm[\"Aliments pour animaux\"].sum())*100)/\n",
    "          da_tm[\"Production\"].sum(),2)\n"
   ]
  },
  {
   "cell_type": "code",
   "execution_count": 52,
   "id": "2fa73183",
   "metadata": {},
   "outputs": [
    {
     "name": "stdout",
     "output_type": "stream",
     "text": [
      "Poportion exportée = 83.41%, Proportion consonmée (nourriture)= 2.88%, Proportion annimaux = 5.95%.\n"
     ]
    }
   ],
   "source": [
    "print(f\"Poportion exportée = {proportion_export}%, Proportion consonmée (nourriture)= \\\n",
    "{proportion_nourriture}%, Proportion annimaux = {proportion_animaux}%.\")"
   ]
  },
  {
   "cell_type": "markdown",
   "id": "c0cdceab",
   "metadata": {},
   "source": [
    "# Utilisation du Manioc en Thaïlande\n",
    "\n",
    "- **Proportion exportée** : 83.41% \n",
    "- **Proportion consommée (nourriture)** : 2.88%\n",
    "- **Proportion destinée à l'alimentation animale** : 5.95%\n",
    "\n",
    "En 2013, **9.1% de la population thaïlandaise** était en état de sous-nutrition.\n",
    "\n",
    "La consommation de manioc aurait pu nourrir **21.98% des personnes** en état de sous-nutrition.\n",
    "\n",
    "Cependant, la Thaïlande ne produit pratiquement pas, ou en quantité très insuffisante, de **blé** ou de **soja** qui, s'ils étaient destinés à la nutrition humaine, pourraient nourrir **48% de sa population** en état de sous-nutrition.\n"
   ]
  },
  {
   "cell_type": "markdown",
   "id": "9844c634",
   "metadata": {},
   "source": [
    "## 3 - Utilisation des céréales \n",
    "Répartition entre l’alimentation humaine (colonne Nourriture) et l’alimentation pour animaux"
   ]
  },
  {
   "cell_type": "code",
   "execution_count": 9,
   "id": "4393a22c",
   "metadata": {},
   "outputs": [
    {
     "data": {
      "text/plain": [
       "array(['Abats Comestible', 'Agrumes, Autres', 'Alcool, non Comestible',\n",
       "       'Aliments pour enfants', 'Ananas', 'Animaux Aquatiques Autre',\n",
       "       'Arachides Decortiquees', 'Avoine', 'Bananes', 'Bananes plantains',\n",
       "       'Beurre, Ghee', 'Bière', 'Blé', 'Boissons Alcooliques',\n",
       "       'Boissons Fermentés', 'Café', 'Cephalopodes', 'Citrons & Limes',\n",
       "       'Coco (Incl Coprah)', 'Crustacés', 'Crème', 'Céréales, Autres',\n",
       "       'Dattes', 'Edulcorants Autres', 'Feve de Cacao', 'Fruits, Autres',\n",
       "       'Girofles', 'Graines Colza/Moutarde', 'Graines de coton',\n",
       "       'Graines de tournesol', 'Graisses Animales Crue', 'Haricots',\n",
       "       'Huil Plantes Oleif Autr', 'Huile Graines de Coton',\n",
       "       \"Huile d'Arachide\", \"Huile d'Olive\", 'Huile de Coco',\n",
       "       'Huile de Colza&Moutarde', 'Huile de Germe de Maïs',\n",
       "       'Huile de Palme', 'Huile de Palmistes', 'Huile de Soja',\n",
       "       'Huile de Son de Riz', 'Huile de Sésame', 'Huile de Tournesol',\n",
       "       'Huiles de Foie de Poisso', 'Huiles de Poissons', 'Ignames',\n",
       "       'Lait - Excl Beurre', 'Légumes, Autres', 'Légumineuses Autres',\n",
       "       'Manioc', 'Maïs', 'Miel', 'Millet', 'Miscellanees',\n",
       "       'Mollusques, Autres', 'Noix', 'Oeufs', 'Oignons', 'Olives',\n",
       "       'Oranges, Mandarines', 'Orge', 'Palmistes', 'Pamplemousse',\n",
       "       'Patates douces', 'Perciform', 'Piments', 'Plantes Aquatiques',\n",
       "       'Plantes Oleiferes, Autre', 'Pois', 'Poissons Eau Douce',\n",
       "       'Poissons Marins, Autres', 'Poissons Pelagiques', 'Poivre',\n",
       "       'Pommes', 'Pommes de Terre', 'Racines nda', 'Raisin',\n",
       "       'Riz (Eq Blanchi)', 'Seigle', 'Soja', 'Sorgho', 'Sucre Eq Brut',\n",
       "       'Sucre non centrifugé', 'Sucre, betterave', 'Sucre, canne',\n",
       "       'Sésame', 'Thé', 'Tomates', \"Viande d'Ovins/Caprins\",\n",
       "       'Viande de Anim Aquatiq', 'Viande de Bovins', 'Viande de Suides',\n",
       "       'Viande de Volailles', 'Viande, Autre', 'Vin', 'Épices, Autres'],\n",
       "      dtype=object)"
      ]
     },
     "execution_count": 9,
     "metadata": {},
     "output_type": "execute_result"
    }
   ],
   "source": [
    "#Recherche des valeurs de du champs produits#\n",
    "dispo_alimentaire = dispo_alimentaire.sort_values([\"Produit\"])\n",
    "dispo_alimentaire[\"Produit\"].unique()"
   ]
  },
  {
   "cell_type": "code",
   "execution_count": 10,
   "id": "0701dda1",
   "metadata": {},
   "outputs": [
    {
     "data": {
      "text/plain": [
       "array(['Blé et produits', 'Riz et produits', 'Orge et produits',\n",
       "       'Maïs et produits', 'Seigle et produits', 'Avoine',\n",
       "       'Millet et produits', 'Sorgho et produits', 'Céréales, Autres'],\n",
       "      dtype=object)"
      ]
     },
     "execution_count": 10,
     "metadata": {},
     "output_type": "execute_result"
    }
   ],
   "source": [
    "#Insertion de la data céréales de tout les pays sur l'année 2013 ( pris sur le site de la FAO#\n",
    "#recherche des valeurs uniques du champs produits#\n",
    "cereales = pd.read_csv(\"file:/Users/33618/OneDrive/Documents/ECOLE PROJET 4 12 09/Données/cereales.csv\")\n",
    "cereales[\"Produit\"].unique()"
   ]
  },
  {
   "cell_type": "markdown",
   "id": "3d3bfc95",
   "metadata": {},
   "source": [
    "## 3- a- Utilisation des céréales: calcul basé sur la liste obtenue\n",
    "['Blé et produits', 'Riz et produits', 'Orge et produits',\n",
    "       'Maïs et produits', 'Seigle et produits', 'Avoine',\n",
    "       'Millet et produits', 'Sorgho et produits', 'Céréales, Autres']\n"
   ]
  },
  {
   "cell_type": "code",
   "execution_count": 11,
   "id": "085baaea",
   "metadata": {},
   "outputs": [
    {
     "data": {
      "text/plain": [
       "array(['Avoine', 'Céréales, Autres'], dtype=object)"
      ]
     },
     "execution_count": 11,
     "metadata": {},
     "output_type": "execute_result"
    }
   ],
   "source": [
    "liste_cereales_FAO= ['Blé et produits', 'Riz et produits', 'Orge et produits',\n",
    "       'Maïs et produits', 'Seigle et produits', 'Avoine',\n",
    "       'Millet et produits', 'Sorgho et produits', 'Céréales, Autres']\n",
    "#Création de la df da_cereales_FAO qui correspond à la disponibilité alimentaire des céréales suivant la liste FAC#\n",
    "da_cereales_FAO=dispo_alimentaire.loc[dispo_alimentaire[\"Produit\"].isin(liste_cereales_FAO),:]\n",
    "da_cereales_FAO[\"Produit\"].unique()\n",
    "# seule les variables [Avoine', 'Céréales, Autres'] ont été prise en compte#"
   ]
  },
  {
   "cell_type": "markdown",
   "id": "de1f49c2",
   "metadata": {},
   "source": [
    "## 3- a- 1- Calcul des proportions destinées aux animaux et à la nourriture par rapport au total destiné à ses deux utilisations"
   ]
  },
  {
   "cell_type": "code",
   "execution_count": 12,
   "id": "2de849fb",
   "metadata": {},
   "outputs": [
    {
     "name": "stdout",
     "output_type": "stream",
     "text": [
      "III - A-1- CONSOMMATION DES CEREALES \n",
      "79.27% de la consommation des céréales est destiné aux Aninaux\n",
      "20.73 % de la consommation des céréales est destiné à la nourriture humaine\n"
     ]
    }
   ],
   "source": [
    "#Calcul des proportions destinées aux animaux et à la nourriture par rapport au total destiné à ses deux utilisations#\n",
    "animaux =round(da_cereales_FAO[\"Aliments pour animaux\"].sum()*100/\n",
    "               (da_cereales_FAO[\"Aliments pour animaux\"].sum()+ da_cereales_FAO[\"Nourriture\"].sum()),2)\n",
    "nourriture=round(da_cereales_FAO[\"Nourriture\"].sum()*100/\n",
    "                 (da_cereales_FAO[\"Aliments pour animaux\"].sum()+ da_cereales_FAO[\"Nourriture\"].sum()),2)\n",
    "print(f\"III - A-1- CONSOMMATION DES CEREALES \\n{animaux}% de la consommation des céréales est destiné aux Aninaux\\n{nourriture} % de la consommation des céréales est destiné à la nourriture humaine\")\n"
   ]
  },
  {
   "cell_type": "markdown",
   "id": "17985e25",
   "metadata": {},
   "source": [
    "## 3- a- 2- Calcul des proportions destinées aux animaux et à la nourriture par rapport au total de la disponibilité intérieur"
   ]
  },
  {
   "cell_type": "code",
   "execution_count": 13,
   "id": "bb420638",
   "metadata": {},
   "outputs": [
    {
     "name": "stdout",
     "output_type": "stream",
     "text": [
      "III - A-2- CONSOMMATION DES CEREALES\n",
      "69.34% de la consommation des céréales est destiné aux Aninaux\n",
      "18.13 % de la consommation des céréales est destiné à la nourriture humaine\n"
     ]
    }
   ],
   "source": [
    "#Calcul des proportions destinées aux animaux et à la nourriture par rapport au total de la disponibilité intérieur#\n",
    "animaux =round(da_cereales_FAO[\"Aliments pour animaux\"].sum()*100/\n",
    "               (da_cereales_FAO[\"Disponibilité intérieure\"].sum()),2)\n",
    "nourriture=round(da_cereales_FAO[\"Nourriture\"].sum()*100/\n",
    "                 (da_cereales_FAO[\"Disponibilité intérieure\"].sum()),2)\n",
    "print(f\"III - A-2- CONSOMMATION DES CEREALES\\n{animaux}% de la consommation des céréales est destiné aux Aninaux\\n{nourriture} % de la consommation des céréales est destiné à la nourriture humaine\")\n",
    "\n",
    "# la somme du resulat n'est pas = 100% car les céréales sont utilisés dans d'autres poste comme les semences, traitement, pertes#"
   ]
  },
  {
   "cell_type": "markdown",
   "id": "3a6522ce",
   "metadata": {},
   "source": [
    "## 3 - b - Utilisation des céréales: calcul basé sur la liste reconstituée \n",
    "[\"Seigle\",\"Riz (Eq Blanchi)\",\"Orge\",\"Maïs\",\"Céréales, Autres\",\"Blé\",\"Avoine\",\"Sorgho\", \"Millet\",\"Céréales, Autres\",\"Huile de Germe de Maïs\",\"Huile de Son de Riz\"]"
   ]
  },
  {
   "cell_type": "code",
   "execution_count": 14,
   "id": "bc1ced34",
   "metadata": {},
   "outputs": [
    {
     "data": {
      "text/plain": [
       "array(['Avoine', 'Blé', 'Céréales, Autres', 'Huile de Germe de Maïs',\n",
       "       'Huile de Son de Riz', 'Maïs', 'Millet', 'Orge',\n",
       "       'Riz (Eq Blanchi)', 'Seigle', 'Sorgho'], dtype=object)"
      ]
     },
     "execution_count": 14,
     "metadata": {},
     "output_type": "execute_result"
    }
   ],
   "source": [
    "liste_cereales= [\"Seigle\",\"Riz (Eq Blanchi)\",\"Orge\",\"Maïs\",\"Céréales, Autres\",\"Blé\",\"Avoine\",\"Sorgho\",\n",
    "                 \"Millet\",\"Céréales, Autres\",\"Huile de Germe de Maïs\",\"Huile de Son de Riz\"]\n",
    "#Création de la df da_cereales qui correspond à la disponibilité alimentaire des céréales suivant la liste reconstituée#\n",
    "da_cereales=dispo_alimentaire.loc[dispo_alimentaire[\"Produit\"].isin(liste_cereales),:]\n",
    "da_cereales[\"Produit\"].unique()\n",
    "#Toutes les variables ont été prise en compte#"
   ]
  },
  {
   "cell_type": "markdown",
   "id": "4b5738ed",
   "metadata": {},
   "source": [
    "## 3- b-1- Calcul des proportions destinées aux animaux et à la nourriture par rapport au total de la disponibilité intérieur"
   ]
  },
  {
   "cell_type": "code",
   "execution_count": 15,
   "id": "434e1179",
   "metadata": {},
   "outputs": [
    {
     "name": "stdout",
     "output_type": "stream",
     "text": [
      "III - B-1- CONSOMMATION DES CEREALES\n",
      "36.24% de la consommation des céréales est destiné aux Aninaux\n",
      "42.82 % de la consommation des céréales est destiné à la nourriture humaine\n"
     ]
    }
   ],
   "source": [
    "#Calcul des proportions destinées aux animaux et à la nourriture par rapport au total de la disponibilité intérieur#\n",
    "animaux =round(da_cereales[\"Aliments pour animaux\"].sum()*100/\n",
    "               (da_cereales[\"Disponibilité intérieure\"].sum()),2)\n",
    "nourriture=round(da_cereales[\"Nourriture\"].sum()*100/\n",
    "                 (da_cereales[\"Disponibilité intérieure\"].sum()),2)\n",
    "print(f\"III - B-1- CONSOMMATION DES CEREALES\\n{animaux}% de la consommation des céréales est destiné aux Aninaux\\n{nourriture} % de la consommation des céréales est destiné à la nourriture humaine\")\n"
   ]
  },
  {
   "cell_type": "markdown",
   "id": "1d397eb4",
   "metadata": {},
   "source": [
    "79% de la production mondiale est destinée à l'alimentation des animaux et à la nourriture humaine.  ( )"
   ]
  },
  {
   "cell_type": "markdown",
   "id": "718def1a",
   "metadata": {},
   "source": [
    "## 3- b-2- Calcul des proportions destinées aux animaux et à la nourriture par rapport au total destiné à ses deux utilisations"
   ]
  },
  {
   "cell_type": "code",
   "execution_count": 16,
   "id": "f3f91df9",
   "metadata": {},
   "outputs": [
    {
     "name": "stdout",
     "output_type": "stream",
     "text": [
      "III - B-1- CONSOMMATION DES CEREALES\n",
      "45.84% de la consommation des céréales est destiné aux Aninaux\n",
      "54.16 % de la consommation des céréales est destiné à la nourriture humaine\n"
     ]
    }
   ],
   "source": [
    "#Calcul des proportions destinées aux animaux et à la nourriture par rapport au total destiné à ses deux utilisations#\n",
    "animaux =round(da_cereales[\"Aliments pour animaux\"].sum()*100/\n",
    "               (da_cereales[\"Aliments pour animaux\"].sum()+ da_cereales[\"Nourriture\"].sum()),2)\n",
    "nourriture=round(da_cereales[\"Nourriture\"].sum()*100/\n",
    "                 (da_cereales[\"Aliments pour animaux\"].sum()+ da_cereales[\"Nourriture\"].sum()),2)\n",
    "print(f\"III - B-1- CONSOMMATION DES CEREALES\\n{animaux}% de la consommation des céréales est destiné aux Aninaux\\n{nourriture} % de la consommation des céréales est destiné à la nourriture humaine\")\n"
   ]
  },
  {
   "cell_type": "markdown",
   "id": "035547f5",
   "metadata": {},
   "source": [
    "Le résultat qui semble correct dans la section III-B-2 indique que **45,84 % de la consommation des céréales** est destinée aux animaux, tandis que **54,16 % est consacrée à la nourriture humaine**.\n",
    "\n",
    "Cela signifie que les humains consomment presque autant de céréales que les animaux. Ce constat soulève une question importante : **l'élevage en vaut-il vraiment la peine ?** \n",
    "\n",
    "En effet, près de la moitié des céréales est utilisée pour nourrir les animaux au lieu de directement répondre aux besoins alimentaires humains. Cette répartition interroge l'efficacité de l'utilisation des ressources agricoles, notamment dans un contexte mondial où la sécurité alimentaire est une préoccupation majeure. \n"
   ]
  },
  {
   "cell_type": "markdown",
   "id": "3aa3f50a",
   "metadata": {},
   "source": [
    "## 4 - Proportion de personnes en état de sous-nutrition (année 2017)"
   ]
  },
  {
   "cell_type": "code",
   "execution_count": 17,
   "id": "d7ab9a2f",
   "metadata": {},
   "outputs": [],
   "source": [
    "#filtre des valeurs de l'année 2017= sous_nutrition_2017#\n",
    "sous_nutrition_2017=sous_nutrition.loc[sous_nutrition[\"Année\"].isin([\"2017\"]),:]\n",
    "\n",
    "sn_2017=sous_nutrition_2017.groupby(\"Zone\").sum() #regroupement par pays =sn_2017 #\n"
   ]
  },
  {
   "cell_type": "code",
   "execution_count": 18,
   "id": "ed82fd63",
   "metadata": {},
   "outputs": [],
   "source": [
    "#filtre des valeurs de l'année 2017 = population_2017#\n",
    "population_2017=population.loc[population[\"Année\"].isin([2017]),:]\n",
    "\n",
    "pop_2017=population_2017.groupby(\"Zone\").sum() #regroupement par pays= pop_2017 = population de l'année 2017 par pays #\n"
   ]
  },
  {
   "cell_type": "code",
   "execution_count": 19,
   "id": "681be0e5",
   "metadata": {},
   "outputs": [
    {
     "data": {
      "text/html": [
       "<div>\n",
       "<style scoped>\n",
       "    .dataframe tbody tr th:only-of-type {\n",
       "        vertical-align: middle;\n",
       "    }\n",
       "\n",
       "    .dataframe tbody tr th {\n",
       "        vertical-align: top;\n",
       "    }\n",
       "\n",
       "    .dataframe thead th {\n",
       "        text-align: right;\n",
       "    }\n",
       "</style>\n",
       "<table border=\"1\" class=\"dataframe\">\n",
       "  <thead>\n",
       "    <tr style=\"text-align: right;\">\n",
       "      <th></th>\n",
       "      <th>pop_nombre</th>\n",
       "      <th>sn_nombre</th>\n",
       "      <th>taux_sn</th>\n",
       "    </tr>\n",
       "  </thead>\n",
       "  <tbody>\n",
       "    <tr>\n",
       "      <th>count</th>\n",
       "      <td>2.360000e+02</td>\n",
       "      <td>2.030000e+02</td>\n",
       "      <td>203.000000</td>\n",
       "    </tr>\n",
       "    <tr>\n",
       "      <th>mean</th>\n",
       "      <td>3.198362e+07</td>\n",
       "      <td>2.680788e+06</td>\n",
       "      <td>6.096946</td>\n",
       "    </tr>\n",
       "    <tr>\n",
       "      <th>std</th>\n",
       "      <td>1.318949e+08</td>\n",
       "      <td>1.387234e+07</td>\n",
       "      <td>10.276502</td>\n",
       "    </tr>\n",
       "    <tr>\n",
       "      <th>min</th>\n",
       "      <td>7.930000e+02</td>\n",
       "      <td>0.000000e+00</td>\n",
       "      <td>0.000000</td>\n",
       "    </tr>\n",
       "    <tr>\n",
       "      <th>25%</th>\n",
       "      <td>3.803032e+05</td>\n",
       "      <td>0.000000e+00</td>\n",
       "      <td>0.000000</td>\n",
       "    </tr>\n",
       "    <tr>\n",
       "      <th>50%</th>\n",
       "      <td>5.203510e+06</td>\n",
       "      <td>0.000000e+00</td>\n",
       "      <td>0.000000</td>\n",
       "    </tr>\n",
       "    <tr>\n",
       "      <th>75%</th>\n",
       "      <td>1.930842e+07</td>\n",
       "      <td>1.150000e+06</td>\n",
       "      <td>8.070000</td>\n",
       "    </tr>\n",
       "    <tr>\n",
       "      <th>max</th>\n",
       "      <td>1.421022e+09</td>\n",
       "      <td>1.892000e+08</td>\n",
       "      <td>49.170000</td>\n",
       "    </tr>\n",
       "  </tbody>\n",
       "</table>\n",
       "</div>"
      ],
      "text/plain": [
       "         pop_nombre     sn_nombre     taux_sn\n",
       "count  2.360000e+02  2.030000e+02  203.000000\n",
       "mean   3.198362e+07  2.680788e+06    6.096946\n",
       "std    1.318949e+08  1.387234e+07   10.276502\n",
       "min    7.930000e+02  0.000000e+00    0.000000\n",
       "25%    3.803032e+05  0.000000e+00    0.000000\n",
       "50%    5.203510e+06  0.000000e+00    0.000000\n",
       "75%    1.930842e+07  1.150000e+06    8.070000\n",
       "max    1.421022e+09  1.892000e+08   49.170000"
      ]
     },
     "execution_count": 19,
     "metadata": {},
     "output_type": "execute_result"
    }
   ],
   "source": [
    "#fusion des df population 2017 et sous_nutrition 2017,  avec les valeurs de l'année 2017 (pop_sn_2017)#\n",
    "pop_sn_2017 = pd.merge(pop_2017, sn_2017, how='outer',on=[\"Zone\"])\n",
    "\n",
    "#Création de la colonne [\"taux_sn\"] qui correspond au taux de sous nutrition par pays#\n",
    "pop_sn_2017[\"taux_sn\"]=round((pop_sn_2017[\"sn_nombre\"]*100/pop_sn_2017[\"pop_nombre\"]),2) \n",
    "pop_sn_2017.describe()"
   ]
  },
  {
   "cell_type": "code",
   "execution_count": 20,
   "id": "3e8fa9b3",
   "metadata": {},
   "outputs": [
    {
     "name": "stdout",
     "output_type": "stream",
     "text": [
      "La proportion des personnes en état de sous nutrition en 2017 est 7.21%\n"
     ]
    }
   ],
   "source": [
    "#calcul de la proportion de personnes en état de sous-nutrition dans le monde  \"p\"#\n",
    "p=round((pop_sn_2017[\"sn_nombre\"].sum()*100/pop_sn_2017[\"pop_nombre\"].sum()),2)\n",
    "\n",
    "print(f\"La proportion des personnes en état de sous nutrition en 2017 est {p}%\")"
   ]
  },
  {
   "cell_type": "markdown",
   "id": "d61f6c21",
   "metadata": {},
   "source": [
    "## 5 - Nombre théorique de personnes qui pourraient être nourries avec l'ensemble des productions (Année 2013)\n",
    "\n",
    "NB: nous avons uniquement les données sur la disponibilité alimentaire de l'année 2013"
   ]
  },
  {
   "cell_type": "code",
   "execution_count": 21,
   "id": "465efa37",
   "metadata": {},
   "outputs": [],
   "source": [
    "# regroupement des quantités par pays- cération de la df da_2013 qui correpond à la disponibilité alimentaire de l'année 2013#\n",
    "da_2013=dispo_alimentaire.groupby([\"Zone\"]).sum().round(2)\n"
   ]
  },
  {
   "cell_type": "markdown",
   "id": "132a01db",
   "metadata": {},
   "source": [
    "Au niveau national, une ration alimentaire inférieure à **2 200 kcal/jour** reflète un **très faible niveau de sécurité alimentaire** et un pourcentage élevé de la population touché par la malnutrition.\n",
    "\n",
    "Un niveau supérieur à **2 700 kcal/jour** indique que seul un faible pourcentage de personnes est sous-alimenté.\n",
    "\n",
    "Lorsque les personnes ont accès à la nourriture, la ration alimentaire par personne augmente rapidement mais se stabilise autour de **3 500 kcal/jour**.\n",
    "\n",
    "(Source : FAO [https://www.fao.org/3/y4683f/y4683f07.htm](https://www.fao.org/3/y4683f/y4683f07.htm))\n"
   ]
  },
  {
   "cell_type": "code",
   "execution_count": 22,
   "id": "97e2b149",
   "metadata": {},
   "outputs": [],
   "source": [
    "#calcul de proportion de kcal disponible par jour par habitant sur la base d'un besoin 2200 kcal/jour/personnes#\n",
    "\n",
    "da_2013[\"taux_kcal\"]=da_2013[\"da_kcal\"]/2200"
   ]
  },
  {
   "cell_type": "code",
   "execution_count": 23,
   "id": "3f98c5bb",
   "metadata": {},
   "outputs": [],
   "source": [
    "#filtre des valeurs de l'année 2013 = population_2013#\n",
    "population_2013=population.loc[population[\"Année\"].isin([2013]),:]\n",
    "\n",
    "pop_2013=population_2013.groupby(\"Zone\").sum() #regroupement par pays= pop_2013 = population de l'année 2013 par pays #"
   ]
  },
  {
   "cell_type": "code",
   "execution_count": 24,
   "id": "238f49f4",
   "metadata": {},
   "outputs": [],
   "source": [
    "#fusion des df population 2013 et disponubilité alimentaire 2013  (pop_da_2013= disponibilité alimentaire par population en 2013)\n",
    "da_pop_2013 = pd.merge(pop_2013, da_2013, how='outer',on=[\"Zone\"])\n",
    "\n",
    "#calcul du nombre théorique de personnes qui pourraient être nourries par pays \n",
    "# pop_da_2013[\"nbre_theorique_pers_nourries\"] = ( proportion des kcal disponible /jour/pers  x nombre total de d'habitant)\n",
    "\n",
    "da_pop_2013[\"nbre_theorique_pers_nourries\"]=da_pop_2013[\"pop_nombre\"]*da_pop_2013[\"taux_kcal\"]\n",
    "\n"
   ]
  },
  {
   "cell_type": "code",
   "execution_count": 25,
   "id": "9cb1f992",
   "metadata": {},
   "outputs": [
    {
     "name": "stdout",
     "output_type": "stream",
     "text": [
      "En 2013,si toute la production  était destinée à la nourriture humaine,\n",
      "alors, le nombre de presonnes qui auraient pû être nourries en 2013 est 9.1 milliards\n",
      "Ce qui correspond à 126.35% de la population.\n"
     ]
    }
   ],
   "source": [
    "#calcul global du Nombre théorique de personnes qui pourraient être nourries dans le monde entier\n",
    "# x= nombre de presonnes qui auraient pû être nourries en 2013\n",
    "# z= % de personnes qui auraient pû être nourries en 2013 par rapport à la poplation total de l'année 2013\n",
    "x=round((da_pop_2013[\"nbre_theorique_pers_nourries\"].sum()/1000000000),1)\n",
    "z=round((da_pop_2013[\"nbre_theorique_pers_nourries\"].sum()*100/da_pop_2013[\"pop_nombre\"].sum()),2)\n",
    "\n",
    "print(f\"En 2013,si toute la production  était destinée à la nourriture humaine,\\nalors, le nombre de presonnes qui auraient pû être nourries en 2013 est {x} milliards\\nCe qui correspond à {z}% de la population.\")\n"
   ]
  },
  {
   "cell_type": "markdown",
   "id": "755034ea",
   "metadata": {},
   "source": [
    "La production alimentaire mondiale est suffisante pour nourrir toute la population, mais elle est **inégalement répartie**. Certains pays ont un meilleur accès à la nourriture que d'autres, et l'aide alimentaire ne parvient pas à combler ces disparités.\n",
    "\n",
    "Cette inégalité s'explique par divers facteurs, tels que :\n",
    "- L'**évolution démographique**,\n",
    "- Une **utilisation inefficace des ressources** disponibles,\n",
    "- Un **manque d'accès** à ces ressources alimentaires.\n",
    "\n",
    "Ces éléments contribuent à creuser l'écart entre les pays en matière de sécurité alimentaire, malgré une production globale suffisante.\n"
   ]
  },
  {
   "cell_type": "markdown",
   "id": "efcccf6a",
   "metadata": {},
   "source": [
    "## 6 - Nombre théorique de personnes qui pourraient être nourries avec les produits végétaux uniquement (Annéé 2013)"
   ]
  },
  {
   "cell_type": "code",
   "execution_count": 26,
   "id": "fb69e4fd",
   "metadata": {},
   "outputs": [],
   "source": [
    " # Création de la df da_v_2013 qui correspond à la disponibilité alimentaire des produits végétaux en 2013()  \n",
    "da_v=dispo_alimentaire.loc[dispo_alimentaire[\"Origine\"].isin([\"vegetale\"]),:] \n",
    "\n",
    "da_v_2013=da_v.groupby([\"Zone\"]).sum().round(2) #regroupement des quantités par pays \n"
   ]
  },
  {
   "cell_type": "code",
   "execution_count": 27,
   "id": "170f1f87",
   "metadata": {},
   "outputs": [],
   "source": [
    "#fusion des df population 2013 et disponubilité alimentaire des produits végétaux en 2013 = da_pop_v_2013\n",
    "da_pop_v_2013 = pd.merge(pop_2013, da_v_2013, how='outer',on=[\"Zone\"])\n",
    "\n",
    "#calcul de proportion de kcal disponible par jour par habitant sur la base d'un besoin 2200 kcal/jour/personnes\n",
    "da_pop_v_2013[\"taux_kcal\"]=(da_pop_v_2013[\"da_kcal\"]/2200)\n",
    "\n",
    "#calcul du nombre théorique de personnes qui pourraient être nourries par pays\n",
    "da_pop_v_2013[\"nbre_theorique_pers_nourries\"]=da_pop_v_2013[\"pop_nombre\"]*da_pop_v_2013[\"taux_kcal\"]\n"
   ]
  },
  {
   "cell_type": "code",
   "execution_count": 28,
   "id": "c56711e0",
   "metadata": {},
   "outputs": [
    {
     "name": "stdout",
     "output_type": "stream",
     "text": [
      "En 2013, la production Végétale aurait pû nourrir 7.5 milliards de personnes\n",
      "Ce qui correspond à 104.05% de la population.\n"
     ]
    }
   ],
   "source": [
    "#calcul global du Nombre théorique de personnes qui pourraient être nourries dans le monde entier\n",
    "# x= nombre de presonnes qui auraient pû être nourries en 2013\n",
    "# z= % de personnes qui auraient pû être nourries en 2013 par rapport à la poplation total de l'année 2013\n",
    "x=round((da_pop_v_2013[\"nbre_theorique_pers_nourries\"].sum()/1000000000),2)\n",
    "z=round((da_pop_v_2013[\"nbre_theorique_pers_nourries\"].sum()*100/da_pop_v_2013[\"pop_nombre\"].sum()),2)\n",
    "\n",
    "print(f\"En 2013, la production Végétale aurait pû nourrir {x} milliards de personnes\\nCe qui correspond à {z}% de la population.\")\n"
   ]
  },
  {
   "cell_type": "markdown",
   "id": "19b51303",
   "metadata": {},
   "source": [
    "## 7 - Nombre théorique de personnes qui pourraient être nourries avec les produits animaliers uniquement (Annéé 2013)¶"
   ]
  },
  {
   "cell_type": "code",
   "execution_count": 29,
   "id": "bf4c7a7c",
   "metadata": {},
   "outputs": [],
   "source": [
    " # Création de la df da_v_2013 qui correspond à la disponibilité alimentaire des produits animaliers en 2013()  \n",
    "da_a=dispo_alimentaire.loc[dispo_alimentaire[\"Origine\"].isin([\"animale\"]),:] \n",
    "\n",
    "da_a_2013=da_a.groupby([\"Zone\"]).sum().round(2) #regroupement des quantités par pays "
   ]
  },
  {
   "cell_type": "code",
   "execution_count": 30,
   "id": "f5d3e70e",
   "metadata": {},
   "outputs": [],
   "source": [
    "#fusion des df population 2013 et disponubilité alimentaire des produits animaliers en 2013 = da_pop_a_2013\n",
    "da_pop_a_2013 = pd.merge(pop_2013, da_a_2013, how='outer',on=[\"Zone\"])\n",
    "\n",
    "#calcul de proportion de kcal disponible par jour par habitant sur la base d'un besoin 2200 kcal/jour/personnes\n",
    "da_pop_a_2013[\"taux_kcal\"]=(da_pop_a_2013[\"da_kcal\"]/2200)\n",
    "\n",
    "#calcul du nombre théorique de personnes qui pourraient être nourries par pays\n",
    "da_pop_a_2013[\"nbre_theorique_pers_nourries\"]=da_pop_a_2013[\"pop_nombre\"]*da_pop_a_2013[\"taux_kcal\"]"
   ]
  },
  {
   "cell_type": "code",
   "execution_count": 31,
   "id": "a96bc4c5",
   "metadata": {},
   "outputs": [
    {
     "name": "stdout",
     "output_type": "stream",
     "text": [
      "En 2013,si toute la production Animale était destinée à la nourriture humaine,\n",
      "alors, le nombre de presonnes qui auraient pû être nourries en 2013 est 1.61 milliards\n",
      "Ce qui correspond à 22.3% de la population.\n"
     ]
    }
   ],
   "source": [
    "#calcul global du Nombre théorique de personnes qui pourraient être nourries dans le monde entier\n",
    "# x= nombre de presonnes qui auraient pû être nourries en 2013\n",
    "# z= % de personnes qui auraient pû être nourries en 2013 par rapport à la poplation total de l'année 2013\n",
    "x=round((da_pop_a_2013[\"nbre_theorique_pers_nourries\"].sum()/1000000000),2)\n",
    "z=round((da_pop_a_2013[\"nbre_theorique_pers_nourries\"].sum()*100/da_pop_a_2013[\"pop_nombre\"].sum()),2)\n",
    "print(f\"En 2013,si toute la production Animale était destinée à la nourriture humaine,\\nalors, le nombre de presonnes qui auraient pû être nourries en 2013 est {x} milliards\\nCe qui correspond à {z}% de la population.\")\n"
   ]
  },
  {
   "cell_type": "markdown",
   "id": "8dfad8d8",
   "metadata": {},
   "source": [
    "## 8-  Repartition de la disponibilité intérieur \n",
    "\n",
    "= Production + Importations- Exportations + Variation de stock\n",
    "\n",
    "= Pertes + Nourriture + Aliments pour animaux + Traitement + Autres Utilisations + Semences"
   ]
  },
  {
   "cell_type": "code",
   "execution_count": 32,
   "id": "8e34a818",
   "metadata": {},
   "outputs": [
    {
     "name": "stdout",
     "output_type": "stream",
     "text": [
      "Repartition de la disponibilité intérieur des produits animaliers\n",
      "Nourriture = 86.61 %\n",
      "Traitement = 0.07 %\n",
      "Semences = 0.41 %\n",
      "Pertes = 1.75 %\n",
      "Aliments pour animaux = 7.87 %\n",
      "Autres Utilisations = 3.38 %\n"
     ]
    }
   ],
   "source": [
    "#calcul de la repartition de la disponibilité intérieur des produits animaliers\n",
    "\n",
    "Nourriture= round((da_pop_a_2013[\"Nourriture\"].sum()*100/da_pop_a_2013[\"Disponibilité intérieure\"].sum()),2)\n",
    "Traitement= round((da_pop_a_2013[\"Traitement\"].sum()*100/da_pop_a_2013[\"Disponibilité intérieure\"].sum()),2)\n",
    "Semences= round((da_pop_a_2013[\"Semences\"].sum()*100/da_pop_a_2013[\"Disponibilité intérieure\"].sum()),2)\n",
    "Pertes= round((da_pop_a_2013[\"Pertes\"].sum()*100/da_pop_a_2013[\"Disponibilité intérieure\"].sum()),2)\n",
    "Aliments_pour_animaux= round((da_pop_a_2013[\"Aliments pour animaux\"].sum()*100/da_pop_a_2013[\"Disponibilité intérieure\"].sum()),2)\n",
    "Autres_utilisations= round((da_pop_a_2013[\"Autres Utilisations\"].sum()*100/da_pop_a_2013[\"Disponibilité intérieure\"].sum()),2)\n",
    "\n",
    "print(f\"Repartition de la disponibilité intérieur des produits animaliers\\nNourriture = {Nourriture} %\\nTraitement = {Traitement} %\\nSemences = {Semences} %\\nPertes = {Pertes} %\\nAliments pour animaux = {Aliments_pour_animaux} %\\nAutres Utilisations = {Autres_utilisations} %\")"
   ]
  },
  {
   "cell_type": "code",
   "execution_count": 33,
   "id": "1b7d188e",
   "metadata": {},
   "outputs": [
    {
     "name": "stdout",
     "output_type": "stream",
     "text": [
      "Repartition de la disponibilité intérieur des produits végétaux\n",
      "Nourriture = 43.53 %\n",
      "Traitement = 25.98 %\n",
      "Semences = 1.76 %\n",
      "Pertes = 5.07 %\n",
      "Aliments pour animaux = 14.11 %\n",
      "Autres Utilisations = 9.65 %\n"
     ]
    }
   ],
   "source": [
    "#calcul de la repartition de la disponibilité intérieur des produits végétaux\n",
    "Nourriture= round((da_pop_v_2013[\"Nourriture\"].sum()*100/da_pop_v_2013[\"Disponibilité intérieure\"].sum()),2)\n",
    "Traitement= round((da_pop_v_2013[\"Traitement\"].sum()*100/da_pop_v_2013[\"Disponibilité intérieure\"].sum()),2)\n",
    "Semences= round((da_pop_v_2013[\"Semences\"].sum()*100/da_pop_v_2013[\"Disponibilité intérieure\"].sum()),2)\n",
    "Pertes= round((da_pop_v_2013[\"Pertes\"].sum()*100/da_pop_v_2013[\"Disponibilité intérieure\"].sum()),2)\n",
    "Aliments_pour_animaux= round((da_pop_v_2013[\"Aliments pour animaux\"].sum()*100/\n",
    "                              da_pop_v_2013[\"Disponibilité intérieure\"].sum()),2)\n",
    "Autres_utilisations= round((da_pop_v_2013[\"Autres Utilisations\"].sum()*100/da_pop_v_2013[\"Disponibilité intérieure\"].sum()),2)\n",
    "print(f\"Repartition de la disponibilité intérieur des produits végétaux\\nNourriture = {Nourriture} %\\nTraitement = {Traitement} %\\nSemences = {Semences} %\\nPertes = {Pertes} %\\nAliments pour animaux = {Aliments_pour_animaux} %\\nAutres Utilisations = {Autres_utilisations} %\")"
   ]
  },
  {
   "cell_type": "code",
   "execution_count": 34,
   "id": "8749ee26",
   "metadata": {},
   "outputs": [
    {
     "name": "stdout",
     "output_type": "stream",
     "text": [
      "Repartition de la disponibilité intérieur globale\n",
      "Nourriture = 49.51 %\n",
      "Traitement = 22.38 %\n",
      "Semences = 1.57 %\n",
      "Pertes = 4.61 %\n",
      "Aliments pour animaux = 13.24 %\n",
      "Autres Utilisations = 8.78 %\n"
     ]
    }
   ],
   "source": [
    "#calcul de la repartition de la disponibilité intérieur de la disponibilité intérieure globale\n",
    "\n",
    "Nourriture= round((da_2013[\"Nourriture\"].sum()*100/da_2013[\"Disponibilité intérieure\"].sum()),2)\n",
    "Traitement= round((da_2013[\"Traitement\"].sum()*100/da_2013[\"Disponibilité intérieure\"].sum()),2)\n",
    "Semences= round((da_2013[\"Semences\"].sum()*100/da_2013[\"Disponibilité intérieure\"].sum()),2)\n",
    "Pertes= round((da_2013[\"Pertes\"].sum()*100/da_2013[\"Disponibilité intérieure\"].sum()),2)\n",
    "Aliments_pour_animaux= round((da_2013[\"Aliments pour animaux\"].sum()*100/da_2013[\"Disponibilité intérieure\"].sum()),2)\n",
    "Autres_utilisations= round((da_2013[\"Autres Utilisations\"].sum()*100/da_2013[\"Disponibilité intérieure\"].sum()),2)\n",
    "\n",
    "print(f\"Repartition de la disponibilité intérieur globale\\nNourriture = {Nourriture} %\\nTraitement = {Traitement} %\\nSemences = {Semences} %\\nPertes = {Pertes} %\\nAliments pour animaux = {Aliments_pour_animaux} %\\nAutres Utilisations = {Autres_utilisations} %\")"
   ]
  },
  {
   "cell_type": "markdown",
   "id": "b5f488be",
   "metadata": {},
   "source": [
    "La production mondiale de **produits végétaux** est largement suffisante pour nourrir l’ensemble de la population mondiale et pourrait même répondre aux besoins de **4 % de personnes supplémentaires**. En revanche, les **produits d’origine animale** ne permettent de nourrir que **22 % de la population**, ce qui met en évidence une différence importante entre les deux types de production.\n",
    "\n",
    "Cette différence devient encore plus significative lorsqu’on réalise que **45 % de la production mondiale de céréales** est utilisée pour nourrir les animaux.\n",
    "\n",
    "Actuellement, **14 % de la production végétale** est directement consommée par les animaux. Si cette proportion était redirigée vers l'alimentation humaine, il serait possible de nourrir **90 % de la population mondiale** uniquement avec des produits végétaux. En comparaison, la production animale ne pourrait nourrir que **22 % de la population** même si elle était intégralement utilisée pour cela.\n",
    "\n",
    "En parallèle, on observe que seulement **43 % de la production végétale** est destinée à l'alimentation humaine, tandis que **86 % de la production animale** est directement utilisée pour nourrir les gens. Cela souligne une répartition inégale des ressources, avec une partie importante des végétaux (**35 %**) utilisée à d'autres fins, comme l’industrie ou le traitement des produits, contre **4 %** pour les produits d'origine animale.\n",
    "\n",
    "En résumé, l'élevage apparaît comme une **utilisation inefficace des ressources alimentaires**, car il consomme une grande partie des céréales disponibles, sans pour autant nourrir autant de personnes que pourrait le faire une production végétale plus orientée vers l’alimentation humaine. Réorienter une plus grande partie de la production végétale vers l’alimentation humaine, au lieu de nourrir les animaux, pourrait être une solution pour **réduire la sous-nutrition** dans le monde.\n"
   ]
  },
  {
   "cell_type": "markdown",
   "id": "7bcc7346",
   "metadata": {},
   "source": [
    "## 9- Pays pour lesquels la proportion de personnes sous-alimentées est la plus forte en 2017"
   ]
  },
  {
   "cell_type": "code",
   "execution_count": 35,
   "id": "b5c1d2d5",
   "metadata": {},
   "outputs": [
    {
     "name": "stdout",
     "output_type": "stream",
     "text": [
      "les 20 pays pour lesquels la proportion de personnes sous-alimentées est la plus forte en 2017 sont les suivants:\n"
     ]
    },
    {
     "data": {
      "text/html": [
       "<div>\n",
       "<style scoped>\n",
       "    .dataframe tbody tr th:only-of-type {\n",
       "        vertical-align: middle;\n",
       "    }\n",
       "\n",
       "    .dataframe tbody tr th {\n",
       "        vertical-align: top;\n",
       "    }\n",
       "\n",
       "    .dataframe thead th {\n",
       "        text-align: right;\n",
       "    }\n",
       "</style>\n",
       "<table border=\"1\" class=\"dataframe\">\n",
       "  <thead>\n",
       "    <tr style=\"text-align: right;\">\n",
       "      <th></th>\n",
       "      <th>pop_nombre</th>\n",
       "      <th>sn_nombre</th>\n",
       "      <th>taux_sn</th>\n",
       "    </tr>\n",
       "    <tr>\n",
       "      <th>Zone</th>\n",
       "      <th></th>\n",
       "      <th></th>\n",
       "      <th></th>\n",
       "    </tr>\n",
       "  </thead>\n",
       "  <tbody>\n",
       "    <tr>\n",
       "      <th>Haïti</th>\n",
       "      <td>10982366.0</td>\n",
       "      <td>5400000.0</td>\n",
       "      <td>49.17</td>\n",
       "    </tr>\n",
       "    <tr>\n",
       "      <th>République populaire démocratique de Corée</th>\n",
       "      <td>25429825.0</td>\n",
       "      <td>12200000.0</td>\n",
       "      <td>47.98</td>\n",
       "    </tr>\n",
       "    <tr>\n",
       "      <th>Madagascar</th>\n",
       "      <td>25570512.0</td>\n",
       "      <td>11000000.0</td>\n",
       "      <td>43.02</td>\n",
       "    </tr>\n",
       "    <tr>\n",
       "      <th>Tchad</th>\n",
       "      <td>15016753.0</td>\n",
       "      <td>6100000.0</td>\n",
       "      <td>40.62</td>\n",
       "    </tr>\n",
       "    <tr>\n",
       "      <th>Libéria</th>\n",
       "      <td>4702226.0</td>\n",
       "      <td>1800000.0</td>\n",
       "      <td>38.28</td>\n",
       "    </tr>\n",
       "    <tr>\n",
       "      <th>Rwanda</th>\n",
       "      <td>11980961.0</td>\n",
       "      <td>4400000.0</td>\n",
       "      <td>36.72</td>\n",
       "    </tr>\n",
       "    <tr>\n",
       "      <th>Mozambique</th>\n",
       "      <td>28649018.0</td>\n",
       "      <td>9600000.0</td>\n",
       "      <td>33.51</td>\n",
       "    </tr>\n",
       "    <tr>\n",
       "      <th>Lesotho</th>\n",
       "      <td>2091534.0</td>\n",
       "      <td>700000.0</td>\n",
       "      <td>33.47</td>\n",
       "    </tr>\n",
       "    <tr>\n",
       "      <th>Timor-Leste</th>\n",
       "      <td>1243258.0</td>\n",
       "      <td>400000.0</td>\n",
       "      <td>32.17</td>\n",
       "    </tr>\n",
       "    <tr>\n",
       "      <th>Venezuela (République bolivarienne du)</th>\n",
       "      <td>29402484.0</td>\n",
       "      <td>9100000.0</td>\n",
       "      <td>30.95</td>\n",
       "    </tr>\n",
       "    <tr>\n",
       "      <th>Afghanistan</th>\n",
       "      <td>36296113.0</td>\n",
       "      <td>11100000.0</td>\n",
       "      <td>30.58</td>\n",
       "    </tr>\n",
       "    <tr>\n",
       "      <th>Congo</th>\n",
       "      <td>5110695.0</td>\n",
       "      <td>1500000.0</td>\n",
       "      <td>29.35</td>\n",
       "    </tr>\n",
       "    <tr>\n",
       "      <th>Sierra Leone</th>\n",
       "      <td>7488423.0</td>\n",
       "      <td>2000000.0</td>\n",
       "      <td>26.71</td>\n",
       "    </tr>\n",
       "    <tr>\n",
       "      <th>République-Unie de Tanzanie</th>\n",
       "      <td>54660339.0</td>\n",
       "      <td>14100000.0</td>\n",
       "      <td>25.80</td>\n",
       "    </tr>\n",
       "    <tr>\n",
       "      <th>Iraq</th>\n",
       "      <td>37552781.0</td>\n",
       "      <td>9100000.0</td>\n",
       "      <td>24.23</td>\n",
       "    </tr>\n",
       "    <tr>\n",
       "      <th>Kenya</th>\n",
       "      <td>50221142.0</td>\n",
       "      <td>11800000.0</td>\n",
       "      <td>23.50</td>\n",
       "    </tr>\n",
       "    <tr>\n",
       "      <th>Botswana</th>\n",
       "      <td>2205080.0</td>\n",
       "      <td>500000.0</td>\n",
       "      <td>22.67</td>\n",
       "    </tr>\n",
       "    <tr>\n",
       "      <th>Mongolie</th>\n",
       "      <td>3113786.0</td>\n",
       "      <td>700000.0</td>\n",
       "      <td>22.48</td>\n",
       "    </tr>\n",
       "    <tr>\n",
       "      <th>Togo</th>\n",
       "      <td>7698474.0</td>\n",
       "      <td>1600000.0</td>\n",
       "      <td>20.78</td>\n",
       "    </tr>\n",
       "    <tr>\n",
       "      <th>Côte d'Ivoire</th>\n",
       "      <td>24437470.0</td>\n",
       "      <td>5000000.0</td>\n",
       "      <td>20.46</td>\n",
       "    </tr>\n",
       "  </tbody>\n",
       "</table>\n",
       "</div>"
      ],
      "text/plain": [
       "                                            pop_nombre   sn_nombre  taux_sn\n",
       "Zone                                                                       \n",
       "Haïti                                       10982366.0   5400000.0    49.17\n",
       "République populaire démocratique de Corée  25429825.0  12200000.0    47.98\n",
       "Madagascar                                  25570512.0  11000000.0    43.02\n",
       "Tchad                                       15016753.0   6100000.0    40.62\n",
       "Libéria                                      4702226.0   1800000.0    38.28\n",
       "Rwanda                                      11980961.0   4400000.0    36.72\n",
       "Mozambique                                  28649018.0   9600000.0    33.51\n",
       "Lesotho                                      2091534.0    700000.0    33.47\n",
       "Timor-Leste                                  1243258.0    400000.0    32.17\n",
       "Venezuela (République bolivarienne du)      29402484.0   9100000.0    30.95\n",
       "Afghanistan                                 36296113.0  11100000.0    30.58\n",
       "Congo                                        5110695.0   1500000.0    29.35\n",
       "Sierra Leone                                 7488423.0   2000000.0    26.71\n",
       "République-Unie de Tanzanie                 54660339.0  14100000.0    25.80\n",
       "Iraq                                        37552781.0   9100000.0    24.23\n",
       "Kenya                                       50221142.0  11800000.0    23.50\n",
       "Botswana                                     2205080.0    500000.0    22.67\n",
       "Mongolie                                     3113786.0    700000.0    22.48\n",
       "Togo                                         7698474.0   1600000.0    20.78\n",
       "Côte d'Ivoire                               24437470.0   5000000.0    20.46"
      ]
     },
     "execution_count": 35,
     "metadata": {},
     "output_type": "execute_result"
    }
   ],
   "source": [
    "#trie de la df pop_sn_2017(population + sous nutrition année 2017)\n",
    "pop_sn_2017_desc=pop_sn_2017.sort_values(by=\"taux_sn\", ascending=False)\n",
    "print(f\"les 20 pays pour lesquels la proportion de personnes sous-alimentées est la plus forte en 2017 sont les suivants:\")\n",
    "pop_sn_2017_desc[0:20]"
   ]
  },
  {
   "cell_type": "markdown",
   "id": "858f51df",
   "metadata": {},
   "source": [
    "## 10- Pays qui ont le plus bénéficiés d’aide depuis 2013\n",
    "ceux ayant le plus/le moins de disponibilité/habitant"
   ]
  },
  {
   "cell_type": "code",
   "execution_count": 36,
   "id": "e2508810",
   "metadata": {},
   "outputs": [
    {
     "name": "stdout",
     "output_type": "stream",
     "text": [
      "les 20 pays ayant le plus beneficiés de l'aide alimentaire depuis 2013 sant les suivants:\n"
     ]
    },
    {
     "data": {
      "text/html": [
       "<div>\n",
       "<style scoped>\n",
       "    .dataframe tbody tr th:only-of-type {\n",
       "        vertical-align: middle;\n",
       "    }\n",
       "\n",
       "    .dataframe tbody tr th {\n",
       "        vertical-align: top;\n",
       "    }\n",
       "\n",
       "    .dataframe thead th {\n",
       "        text-align: right;\n",
       "    }\n",
       "</style>\n",
       "<table border=\"1\" class=\"dataframe\">\n",
       "  <thead>\n",
       "    <tr style=\"text-align: right;\">\n",
       "      <th></th>\n",
       "      <th>ai_quantité</th>\n",
       "    </tr>\n",
       "    <tr>\n",
       "      <th>Zone</th>\n",
       "      <th></th>\n",
       "    </tr>\n",
       "  </thead>\n",
       "  <tbody>\n",
       "    <tr>\n",
       "      <th>République arabe syrienne</th>\n",
       "      <td>1858943</td>\n",
       "    </tr>\n",
       "    <tr>\n",
       "      <th>Éthiopie</th>\n",
       "      <td>1381294</td>\n",
       "    </tr>\n",
       "    <tr>\n",
       "      <th>Yémen</th>\n",
       "      <td>1206484</td>\n",
       "    </tr>\n",
       "    <tr>\n",
       "      <th>Soudan du Sud</th>\n",
       "      <td>695248</td>\n",
       "    </tr>\n",
       "    <tr>\n",
       "      <th>Soudan</th>\n",
       "      <td>669784</td>\n",
       "    </tr>\n",
       "    <tr>\n",
       "      <th>Kenya</th>\n",
       "      <td>552836</td>\n",
       "    </tr>\n",
       "    <tr>\n",
       "      <th>Bangladesh</th>\n",
       "      <td>348188</td>\n",
       "    </tr>\n",
       "    <tr>\n",
       "      <th>Somalie</th>\n",
       "      <td>292678</td>\n",
       "    </tr>\n",
       "    <tr>\n",
       "      <th>République démocratique du Congo</th>\n",
       "      <td>288502</td>\n",
       "    </tr>\n",
       "    <tr>\n",
       "      <th>Niger</th>\n",
       "      <td>276344</td>\n",
       "    </tr>\n",
       "    <tr>\n",
       "      <th>Tchad</th>\n",
       "      <td>267966</td>\n",
       "    </tr>\n",
       "    <tr>\n",
       "      <th>Pakistan</th>\n",
       "      <td>231072</td>\n",
       "    </tr>\n",
       "    <tr>\n",
       "      <th>République populaire démocratique de Corée</th>\n",
       "      <td>187412</td>\n",
       "    </tr>\n",
       "    <tr>\n",
       "      <th>Afghanistan</th>\n",
       "      <td>185452</td>\n",
       "    </tr>\n",
       "    <tr>\n",
       "      <th>République-Unie de Tanzanie</th>\n",
       "      <td>172022</td>\n",
       "    </tr>\n",
       "    <tr>\n",
       "      <th>Philippines</th>\n",
       "      <td>171722</td>\n",
       "    </tr>\n",
       "    <tr>\n",
       "      <th>Palestine</th>\n",
       "      <td>169684</td>\n",
       "    </tr>\n",
       "    <tr>\n",
       "      <th>Mali</th>\n",
       "      <td>149586</td>\n",
       "    </tr>\n",
       "    <tr>\n",
       "      <th>Haïti</th>\n",
       "      <td>116450</td>\n",
       "    </tr>\n",
       "    <tr>\n",
       "      <th>Nicaragua</th>\n",
       "      <td>115332</td>\n",
       "    </tr>\n",
       "  </tbody>\n",
       "</table>\n",
       "</div>"
      ],
      "text/plain": [
       "                                            ai_quantité\n",
       "Zone                                                   \n",
       "République arabe syrienne                       1858943\n",
       "Éthiopie                                        1381294\n",
       "Yémen                                           1206484\n",
       "Soudan du Sud                                    695248\n",
       "Soudan                                           669784\n",
       "Kenya                                            552836\n",
       "Bangladesh                                       348188\n",
       "Somalie                                          292678\n",
       "République démocratique du Congo                 288502\n",
       "Niger                                            276344\n",
       "Tchad                                            267966\n",
       "Pakistan                                         231072\n",
       "République populaire démocratique de Corée       187412\n",
       "Afghanistan                                      185452\n",
       "République-Unie de Tanzanie                      172022\n",
       "Philippines                                      171722\n",
       "Palestine                                        169684\n",
       "Mali                                             149586\n",
       "Haïti                                            116450\n",
       "Nicaragua                                        115332"
      ]
     },
     "execution_count": 36,
     "metadata": {},
     "output_type": "execute_result"
    }
   ],
   "source": [
    "# regroupement de l'aide alimentaire de l'année 2013 par pays\n",
    "ai_df=aide_alimentaire.groupby(\"Zone\").sum()\n",
    "ai_df_desc=ai_df.sort_values(by=\"ai_quantité\", ascending=False)\n",
    "print(f\"les 20 pays ayant le plus beneficiés de l'aide alimentaire depuis 2013 sant les suivants:\")\n",
    "ai_df_desc[:20]"
   ]
  },
  {
   "cell_type": "code",
   "execution_count": 37,
   "id": "25b5c672",
   "metadata": {},
   "outputs": [
    {
     "data": {
      "text/html": [
       "<div>\n",
       "<style scoped>\n",
       "    .dataframe tbody tr th:only-of-type {\n",
       "        vertical-align: middle;\n",
       "    }\n",
       "\n",
       "    .dataframe tbody tr th {\n",
       "        vertical-align: top;\n",
       "    }\n",
       "\n",
       "    .dataframe thead th {\n",
       "        text-align: right;\n",
       "    }\n",
       "</style>\n",
       "<table border=\"1\" class=\"dataframe\">\n",
       "  <thead>\n",
       "    <tr style=\"text-align: right;\">\n",
       "      <th></th>\n",
       "      <th>Zone</th>\n",
       "      <th>Année</th>\n",
       "      <th>Produit</th>\n",
       "      <th>ai_quantité</th>\n",
       "    </tr>\n",
       "  </thead>\n",
       "  <tbody>\n",
       "    <tr>\n",
       "      <th>0</th>\n",
       "      <td>Afghanistan</td>\n",
       "      <td>2013</td>\n",
       "      <td>Autres non-céréales</td>\n",
       "      <td>682</td>\n",
       "    </tr>\n",
       "    <tr>\n",
       "      <th>1</th>\n",
       "      <td>Afghanistan</td>\n",
       "      <td>2014</td>\n",
       "      <td>Autres non-céréales</td>\n",
       "      <td>335</td>\n",
       "    </tr>\n",
       "    <tr>\n",
       "      <th>2</th>\n",
       "      <td>Afghanistan</td>\n",
       "      <td>2013</td>\n",
       "      <td>Blé et Farin</td>\n",
       "      <td>39224</td>\n",
       "    </tr>\n",
       "    <tr>\n",
       "      <th>3</th>\n",
       "      <td>Afghanistan</td>\n",
       "      <td>2014</td>\n",
       "      <td>Blé et Farin</td>\n",
       "      <td>15160</td>\n",
       "    </tr>\n",
       "    <tr>\n",
       "      <th>4</th>\n",
       "      <td>Afghanistan</td>\n",
       "      <td>2013</td>\n",
       "      <td>Céréales</td>\n",
       "      <td>40504</td>\n",
       "    </tr>\n",
       "  </tbody>\n",
       "</table>\n",
       "</div>"
      ],
      "text/plain": [
       "          Zone Année              Produit  ai_quantité\n",
       "0  Afghanistan  2013  Autres non-céréales          682\n",
       "1  Afghanistan  2014  Autres non-céréales          335\n",
       "2  Afghanistan  2013         Blé et Farin        39224\n",
       "3  Afghanistan  2014         Blé et Farin        15160\n",
       "4  Afghanistan  2013             Céréales        40504"
      ]
     },
     "execution_count": 37,
     "metadata": {},
     "output_type": "execute_result"
    }
   ],
   "source": [
    "aide_alimentaire.head()\n"
   ]
  },
  {
   "cell_type": "code",
   "execution_count": 38,
   "id": "15982cf2",
   "metadata": {},
   "outputs": [
    {
     "data": {
      "text/plain": [
       "Zone         Année\n",
       "Afghanistan  2013     128238\n",
       "             2014      57214\n",
       "Algérie      2013      35234\n",
       "             2014      18980\n",
       "             2015      17424\n",
       "Name: ai_quantité, dtype: int64"
      ]
     },
     "execution_count": 38,
     "metadata": {},
     "output_type": "execute_result"
    }
   ],
   "source": [
    "aide_alimentaire.head()\n",
    "x=aide_alimentaire.groupby([\"Zone\",\"Année\"])[\"ai_quantité\"].sum()\n",
    "#y=x.sort_values(by=\"ai_quantité Sum\", ascending=False)[\"Zone\",\"Année\",\"ai_quantité\"]\n",
    "x.head()"
   ]
  },
  {
   "cell_type": "markdown",
   "id": "ea62b2f6",
   "metadata": {},
   "source": [
    "## 11- Pays ayant le plus de Disponibilité par habitant en 2013"
   ]
  },
  {
   "cell_type": "code",
   "execution_count": 39,
   "id": "e1cc88ae",
   "metadata": {},
   "outputs": [
    {
     "name": "stdout",
     "output_type": "stream",
     "text": [
      "<class 'pandas.core.frame.DataFrame'>\n",
      "Index: 174 entries, Afghanistan to Tchéquie (la)\n",
      "Data columns (total 23 columns):\n",
      " #   Column                    Non-Null Count  Dtype  \n",
      "---  ------                    --------------  -----  \n",
      " 0   pop_nombre                172 non-null    float64\n",
      " 1   sn_nombre                 172 non-null    float64\n",
      " 2   ai_quantité               66 non-null     float64\n",
      " 3   Aliments pour animaux     174 non-null    float64\n",
      " 4   Autres Utilisations       174 non-null    float64\n",
      " 5   da_kcal                   174 non-null    float64\n",
      " 6   kg_pers                   174 non-null    float64\n",
      " 7   matiere_grasse            174 non-null    float64\n",
      " 8   protéines                 174 non-null    float64\n",
      " 9   Disponibilité intérieure  174 non-null    float64\n",
      " 10  Exportations - Quantité   174 non-null    float64\n",
      " 11  Importations - Quantité   174 non-null    float64\n",
      " 12  Nourriture                174 non-null    float64\n",
      " 13  Pertes                    174 non-null    float64\n",
      " 14  Production                174 non-null    float64\n",
      " 15  Semences                  174 non-null    float64\n",
      " 16  Traitement                174 non-null    float64\n",
      " 17  Variation de stock        174 non-null    float64\n",
      " 18  taux_kcal                 174 non-null    float64\n",
      " 19  xxx                       174 non-null    int64  \n",
      " 20  taux_sn                   172 non-null    float64\n",
      " 21  %exportations             174 non-null    float64\n",
      " 22  %Importations             174 non-null    float64\n",
      "dtypes: float64(22), int64(1)\n",
      "memory usage: 32.6+ KB\n"
     ]
    }
   ],
   "source": [
    "# regroupement de l'aide alimentaire de l'année 2013 par pays\n",
    "ai_2013=aide_alimentaire.groupby(\"Zone\").sum()\n",
    "\n",
    "#filtre des valeurs de l'année 2013= sous_nutrition_2013#\n",
    "sous_nutrition_2013=sous_nutrition.loc[sous_nutrition[\"Année\"].isin([\"2013\"]),:]\n",
    "\n",
    "sn_2013=sous_nutrition_2013.groupby(\"Zone\").sum() #regroupement par pays = sn_2013 \n",
    "\n",
    "#fusion des df population 2013 , sous nutrition 2013, aide alimentaire 2013 et disponibilité alimentaire 2013= df_2013\n",
    "from functools import reduce\n",
    "\n",
    "liste_df= [pop_2013, sn_2013,ai_2013,da_2013] #liste des df à fusionner\n",
    "\n",
    "df_2013 = reduce(lambda  left,right: pd.merge(left,right,on=['Zone'],\n",
    "                                            how='outer'), liste_df)\n",
    "\n",
    "#recherche et suppression des valeurs NaN\n",
    "df_2013[\"xxx\"]=df_2013.isna().sum(axis=1)\n",
    "df_2013.sort_values(by=\"xxx\",ascending=False)\n",
    "df_2013=df_2013.drop(df_2013[df_2013.xxx >14].index)\n",
    "\n",
    "\n",
    "#Création de la colonne [\"taux_sn\"] qui correspond au taux de sous nutrition par pays#\n",
    "df_2013[\"taux_sn\"]=round((df_2013[\"sn_nombre\"]*100/df_2013[\"pop_nombre\"]),2)\n",
    "\n",
    "#Création de la colonne [\"%exportations\"] qui correspond à la proportion des exportations par rapprt à la disponibilité intérieure\n",
    "df_2013[\"%exportations\"]=round((df_2013[\"Exportations - Quantité\"]*100/df_2013[\"Disponibilité intérieure\"]),2)\n",
    "\n",
    "\n",
    "#Création de la colonne [\"%Importation\"] qui correspond à la proportion des importations par rapprt à la disponibilité intérieure\n",
    "df_2013[\"%Importations\"]=round((df_2013[\"Importations - Quantité\"]*100/df_2013[\"Disponibilité intérieure\"]),2)\n",
    "\n",
    "df_2013.info()"
   ]
  },
  {
   "cell_type": "code",
   "execution_count": 40,
   "id": "77a49825",
   "metadata": {},
   "outputs": [
    {
     "name": "stdout",
     "output_type": "stream",
     "text": [
      "les 10 pays ayant le plus de Disponibilité par habitant en 2013 sont les suivants:\n"
     ]
    },
    {
     "data": {
      "text/html": [
       "<div>\n",
       "<style scoped>\n",
       "    .dataframe tbody tr th:only-of-type {\n",
       "        vertical-align: middle;\n",
       "    }\n",
       "\n",
       "    .dataframe tbody tr th {\n",
       "        vertical-align: top;\n",
       "    }\n",
       "\n",
       "    .dataframe thead th {\n",
       "        text-align: right;\n",
       "    }\n",
       "</style>\n",
       "<table border=\"1\" class=\"dataframe\">\n",
       "  <thead>\n",
       "    <tr style=\"text-align: right;\">\n",
       "      <th></th>\n",
       "      <th>da_kcal</th>\n",
       "      <th>Disponibilité intérieure</th>\n",
       "      <th>ai_quantité</th>\n",
       "      <th>taux_sn</th>\n",
       "    </tr>\n",
       "    <tr>\n",
       "      <th>Zone</th>\n",
       "      <th></th>\n",
       "      <th></th>\n",
       "      <th></th>\n",
       "      <th></th>\n",
       "    </tr>\n",
       "  </thead>\n",
       "  <tbody>\n",
       "    <tr>\n",
       "      <th>Autriche</th>\n",
       "      <td>3770.0</td>\n",
       "      <td>19308.0</td>\n",
       "      <td>NaN</td>\n",
       "      <td>0.00</td>\n",
       "    </tr>\n",
       "    <tr>\n",
       "      <th>Belgique</th>\n",
       "      <td>3737.0</td>\n",
       "      <td>29358.0</td>\n",
       "      <td>NaN</td>\n",
       "      <td>0.00</td>\n",
       "    </tr>\n",
       "    <tr>\n",
       "      <th>Turquie</th>\n",
       "      <td>3708.0</td>\n",
       "      <td>131377.0</td>\n",
       "      <td>NaN</td>\n",
       "      <td>0.00</td>\n",
       "    </tr>\n",
       "    <tr>\n",
       "      <th>États-Unis d'Amérique</th>\n",
       "      <td>3682.0</td>\n",
       "      <td>777992.0</td>\n",
       "      <td>NaN</td>\n",
       "      <td>0.00</td>\n",
       "    </tr>\n",
       "    <tr>\n",
       "      <th>Israël</th>\n",
       "      <td>3610.0</td>\n",
       "      <td>11267.0</td>\n",
       "      <td>NaN</td>\n",
       "      <td>0.00</td>\n",
       "    </tr>\n",
       "    <tr>\n",
       "      <th>Irlande</th>\n",
       "      <td>3602.0</td>\n",
       "      <td>10738.0</td>\n",
       "      <td>NaN</td>\n",
       "      <td>0.00</td>\n",
       "    </tr>\n",
       "    <tr>\n",
       "      <th>Italie</th>\n",
       "      <td>3578.0</td>\n",
       "      <td>97405.0</td>\n",
       "      <td>NaN</td>\n",
       "      <td>0.00</td>\n",
       "    </tr>\n",
       "    <tr>\n",
       "      <th>Luxembourg</th>\n",
       "      <td>3540.0</td>\n",
       "      <td>802.0</td>\n",
       "      <td>NaN</td>\n",
       "      <td>0.00</td>\n",
       "    </tr>\n",
       "    <tr>\n",
       "      <th>Égypte</th>\n",
       "      <td>3518.0</td>\n",
       "      <td>115133.0</td>\n",
       "      <td>1122.0</td>\n",
       "      <td>4.98</td>\n",
       "    </tr>\n",
       "    <tr>\n",
       "      <th>Allemagne</th>\n",
       "      <td>3503.0</td>\n",
       "      <td>162275.0</td>\n",
       "      <td>NaN</td>\n",
       "      <td>0.00</td>\n",
       "    </tr>\n",
       "  </tbody>\n",
       "</table>\n",
       "</div>"
      ],
      "text/plain": [
       "                       da_kcal  Disponibilité intérieure  ai_quantité  taux_sn\n",
       "Zone                                                                          \n",
       "Autriche                3770.0                   19308.0          NaN     0.00\n",
       "Belgique                3737.0                   29358.0          NaN     0.00\n",
       "Turquie                 3708.0                  131377.0          NaN     0.00\n",
       "États-Unis d'Amérique   3682.0                  777992.0          NaN     0.00\n",
       "Israël                  3610.0                   11267.0          NaN     0.00\n",
       "Irlande                 3602.0                   10738.0          NaN     0.00\n",
       "Italie                  3578.0                   97405.0          NaN     0.00\n",
       "Luxembourg              3540.0                     802.0          NaN     0.00\n",
       "Égypte                  3518.0                  115133.0       1122.0     4.98\n",
       "Allemagne               3503.0                  162275.0          NaN     0.00"
      ]
     },
     "execution_count": 40,
     "metadata": {},
     "output_type": "execute_result"
    }
   ],
   "source": [
    "# trie du df df_2013 par quantité de Disponibilité alimentaire /kcal/personne\n",
    "\n",
    "dispo_da_kcal_sup_habitant=df_2013.sort_values(by=\"da_kcal\", ascending=False)[[\"da_kcal\",\"Disponibilité intérieure\",\"ai_quantité\",\"taux_sn\"]]\n",
    "\n",
    "print(f\"les 10 pays ayant le plus de Disponibilité par habitant en 2013 sont les suivants:\")\n",
    "\n",
    "dispo_da_kcal_sup_habitant[:10]"
   ]
  },
  {
   "cell_type": "code",
   "execution_count": 41,
   "id": "2ab2969b",
   "metadata": {},
   "outputs": [
    {
     "data": {
      "image/png": "[encoded data removed]",
      "text/plain": [
       "<Figure size 432x288 with 1 Axes>"
      ]
     },
     "metadata": {
      "needs_background": "light"
     },
     "output_type": "display_data"
    }
   ],
   "source": [
    "import matplotlib.pyplot as plt\n",
    "\n",
    "top_10_countries = dispo_da_kcal_sup_habitant[:10]\n",
    "top_10_countries.plot(kind='bar', y='Disponibilité intérieure', legend=False)\n",
    "plt.title(\"Top 10 des pays ayant le plus de Disponibilité intérieure par habitant en 2013\")\n",
    "plt.ylabel(\"Disponibilité intérieure\")\n",
    "plt.show()"
   ]
  },
  {
   "cell_type": "markdown",
   "id": "e0bfe8e6",
   "metadata": {},
   "source": [
    "## 12- Pays ayant le moins de Disponibilité en 2013"
   ]
  },
  {
   "cell_type": "code",
   "execution_count": 42,
   "id": "b2b3b398",
   "metadata": {},
   "outputs": [
    {
     "name": "stdout",
     "output_type": "stream",
     "text": [
      "les 10 pays ayant le moins de Disponibilité par habitant en 2013 sont les suivants:\n"
     ]
    },
    {
     "data": {
      "text/html": [
       "<div>\n",
       "<style scoped>\n",
       "    .dataframe tbody tr th:only-of-type {\n",
       "        vertical-align: middle;\n",
       "    }\n",
       "\n",
       "    .dataframe tbody tr th {\n",
       "        vertical-align: top;\n",
       "    }\n",
       "\n",
       "    .dataframe thead th {\n",
       "        text-align: right;\n",
       "    }\n",
       "</style>\n",
       "<table border=\"1\" class=\"dataframe\">\n",
       "  <thead>\n",
       "    <tr style=\"text-align: right;\">\n",
       "      <th></th>\n",
       "      <th>da_kcal</th>\n",
       "      <th>Disponibilité intérieure</th>\n",
       "      <th>ai_quantité</th>\n",
       "      <th>taux_sn</th>\n",
       "    </tr>\n",
       "    <tr>\n",
       "      <th>Zone</th>\n",
       "      <th></th>\n",
       "      <th></th>\n",
       "      <th></th>\n",
       "      <th></th>\n",
       "    </tr>\n",
       "  </thead>\n",
       "  <tbody>\n",
       "    <tr>\n",
       "      <th>République centrafricaine</th>\n",
       "      <td>1879.0</td>\n",
       "      <td>2582.0</td>\n",
       "      <td>66610.0</td>\n",
       "      <td>0.00</td>\n",
       "    </tr>\n",
       "    <tr>\n",
       "      <th>Zambie</th>\n",
       "      <td>1924.0</td>\n",
       "      <td>10041.0</td>\n",
       "      <td>3026.0</td>\n",
       "      <td>0.00</td>\n",
       "    </tr>\n",
       "    <tr>\n",
       "      <th>Madagascar</th>\n",
       "      <td>2056.0</td>\n",
       "      <td>15216.0</td>\n",
       "      <td>96678.0</td>\n",
       "      <td>33.10</td>\n",
       "    </tr>\n",
       "    <tr>\n",
       "      <th>Afghanistan</th>\n",
       "      <td>2087.0</td>\n",
       "      <td>13515.0</td>\n",
       "      <td>185452.0</td>\n",
       "      <td>26.65</td>\n",
       "    </tr>\n",
       "    <tr>\n",
       "      <th>Haïti</th>\n",
       "      <td>2089.0</td>\n",
       "      <td>6175.0</td>\n",
       "      <td>116450.0</td>\n",
       "      <td>49.04</td>\n",
       "    </tr>\n",
       "    <tr>\n",
       "      <th>République populaire démocratique de Corée</th>\n",
       "      <td>2093.0</td>\n",
       "      <td>14876.0</td>\n",
       "      <td>187412.0</td>\n",
       "      <td>41.32</td>\n",
       "    </tr>\n",
       "    <tr>\n",
       "      <th>Tchad</th>\n",
       "      <td>2109.0</td>\n",
       "      <td>5304.0</td>\n",
       "      <td>267966.0</td>\n",
       "      <td>37.06</td>\n",
       "    </tr>\n",
       "    <tr>\n",
       "      <th>Zimbabwe</th>\n",
       "      <td>2113.0</td>\n",
       "      <td>9507.0</td>\n",
       "      <td>62570.0</td>\n",
       "      <td>0.00</td>\n",
       "    </tr>\n",
       "    <tr>\n",
       "      <th>Ouganda</th>\n",
       "      <td>2126.0</td>\n",
       "      <td>26624.0</td>\n",
       "      <td>64622.0</td>\n",
       "      <td>0.00</td>\n",
       "    </tr>\n",
       "    <tr>\n",
       "      <th>Timor-Leste</th>\n",
       "      <td>2129.0</td>\n",
       "      <td>447.0</td>\n",
       "      <td>116.0</td>\n",
       "      <td>34.68</td>\n",
       "    </tr>\n",
       "  </tbody>\n",
       "</table>\n",
       "</div>"
      ],
      "text/plain": [
       "                                            da_kcal  Disponibilité intérieure  \\\n",
       "Zone                                                                            \n",
       "République centrafricaine                    1879.0                    2582.0   \n",
       "Zambie                                       1924.0                   10041.0   \n",
       "Madagascar                                   2056.0                   15216.0   \n",
       "Afghanistan                                  2087.0                   13515.0   \n",
       "Haïti                                        2089.0                    6175.0   \n",
       "République populaire démocratique de Corée   2093.0                   14876.0   \n",
       "Tchad                                        2109.0                    5304.0   \n",
       "Zimbabwe                                     2113.0                    9507.0   \n",
       "Ouganda                                      2126.0                   26624.0   \n",
       "Timor-Leste                                  2129.0                     447.0   \n",
       "\n",
       "                                            ai_quantité  taux_sn  \n",
       "Zone                                                              \n",
       "République centrafricaine                       66610.0     0.00  \n",
       "Zambie                                           3026.0     0.00  \n",
       "Madagascar                                      96678.0    33.10  \n",
       "Afghanistan                                    185452.0    26.65  \n",
       "Haïti                                          116450.0    49.04  \n",
       "République populaire démocratique de Corée     187412.0    41.32  \n",
       "Tchad                                          267966.0    37.06  \n",
       "Zimbabwe                                        62570.0     0.00  \n",
       "Ouganda                                         64622.0     0.00  \n",
       "Timor-Leste                                       116.0    34.68  "
      ]
     },
     "execution_count": 42,
     "metadata": {},
     "output_type": "execute_result"
    }
   ],
   "source": [
    "# trie du df df_2013 par quantité de Disponibilité alimentaire /kcal/personne\n",
    "dispo_da_kcal_inf_habitant=df_2013.sort_values(by=\"da_kcal\",ascending=True)[[ \"da_kcal\",\"Disponibilité intérieure\",\"ai_quantité\",\"taux_sn\"]]\n",
    "print(f\"les 10 pays ayant le moins de Disponibilité par habitant en 2013 sont les suivants:\")\n",
    "\n",
    "dispo_da_kcal_inf_habitant[:10]"
   ]
  },
  {
   "cell_type": "markdown",
   "id": "24f5c4e4",
   "metadata": {},
   "source": [
    "Une **disponibilité intérieure élevée** ne garantit pas forcément un **bon niveau alimentaire**. \n",
    "\n",
    "Par exemple, en **Égypte**, bien que la disponibilité alimentaire par habitant soit importante, le **taux de sous-nutrition** reste à **5 %**. \n",
    "\n",
    "Cela peut s'expliquer par :\n",
    "- Un **accès limité** à la nourriture pour certaines populations,\n",
    "- Une **gestion inefficace des ressources alimentaires**.\n",
    "\n",
    "Ainsi, une disponibilité élevée ne se traduit pas nécessairement par une réduction de la sous-nutrition, surtout si des facteurs socio-économiques limitent l'accès équitable aux ressources alimentaires.\n"
   ]
  }
 ],
 "metadata": {
  "kernelspec": {
   "display_name": "Python 3 (ipykernel)",
   "language": "python",
   "name": "python3"
  },
  "language_info": {
   "codemirror_mode": {
    "name": "ipython",
    "version": 3
   },
   "file_extension": ".py",
   "mimetype": "text/x-python",
   "name": "python",
   "nbconvert_exporter": "python",
   "pygments_lexer": "ipython3",
   "version": "3.9.12"
  }
 },
 "nbformat": 4,
 "nbformat_minor": 5
}
